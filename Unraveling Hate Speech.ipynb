{
  "cells": [
    {
      "cell_type": "code",
      "execution_count": 1,
      "metadata": {
        "id": "ZEXg2qUiD5lI"
      },
      "outputs": [],
      "source": [
        "import pandas as pd"
      ]
    },
    {
      "cell_type": "code",
      "execution_count": 2,
      "metadata": {
        "colab": {
          "base_uri": "https://localhost:8080/"
        },
        "id": "Bo1O_wqA9Ke5",
        "outputId": "1a1ddb78-9c1f-4e3b-f495-56c7f16d46ca"
      },
      "outputs": [
        {
          "output_type": "stream",
          "name": "stdout",
          "text": [
            "Mounted at /content/gdrive\n"
          ]
        }
      ],
      "source": [
        "from google.colab import drive\n",
        "drive.mount('/content/gdrive')"
      ]
    },
    {
      "cell_type": "code",
      "execution_count": 3,
      "metadata": {
        "colab": {
          "base_uri": "https://localhost:8080/",
          "height": 379
        },
        "id": "Td1jfS4N87Qi",
        "outputId": "1b6db10f-0bdc-4aa3-90d8-6dec6fcd912b"
      },
      "outputs": [
        {
          "output_type": "stream",
          "name": "stdout",
          "text": [
            "<class 'pandas.core.frame.DataFrame'>\n",
            "RangeIndex: 5890 entries, 0 to 5889\n",
            "Data columns (total 3 columns):\n",
            " #   Column  Non-Null Count  Dtype  \n",
            "---  ------  --------------  -----  \n",
            " 0   text    5888 non-null   object \n",
            " 1   label   5887 non-null   object \n",
            " 2   target  5887 non-null   float64\n",
            "dtypes: float64(1), object(2)\n",
            "memory usage: 138.2+ KB\n"
          ]
        },
        {
          "output_type": "execute_result",
          "data": {
            "text/plain": [
              "                                                text         label  target\n",
              "0         ৭৫ হামলার আসামী কে এই গডফাদার কালা মন্দির?      Personal     0.0\n",
              "1  রাজাকারদের মন্ত্রী বানানোর দায়ে তার আরও কঠিন ...     Political     1.0\n",
              "2  বৃটিশ নাগরিকদের বাংলাদেশ ভ্রমনে সতর্কতা জারী ২...  Geopolitical     3.0\n",
              "3  বলদ নয়াদিগন্ত কালকে রিপোর্ট করলো হিলারী শপথ ন...     Political     1.0\n",
              "4  অসভ্য বর্বর বেহায়া ভোট ডাকাত সকল প্রকার খারাপ...  Geopolitical     3.0"
            ],
            "text/html": [
              "\n",
              "  <div id=\"df-d0921014-abd8-497b-8d9f-3b5d2ff9f19f\" class=\"colab-df-container\">\n",
              "    <div>\n",
              "<style scoped>\n",
              "    .dataframe tbody tr th:only-of-type {\n",
              "        vertical-align: middle;\n",
              "    }\n",
              "\n",
              "    .dataframe tbody tr th {\n",
              "        vertical-align: top;\n",
              "    }\n",
              "\n",
              "    .dataframe thead th {\n",
              "        text-align: right;\n",
              "    }\n",
              "</style>\n",
              "<table border=\"1\" class=\"dataframe\">\n",
              "  <thead>\n",
              "    <tr style=\"text-align: right;\">\n",
              "      <th></th>\n",
              "      <th>text</th>\n",
              "      <th>label</th>\n",
              "      <th>target</th>\n",
              "    </tr>\n",
              "  </thead>\n",
              "  <tbody>\n",
              "    <tr>\n",
              "      <th>0</th>\n",
              "      <td>৭৫ হামলার আসামী কে এই গডফাদার কালা মন্দির?</td>\n",
              "      <td>Personal</td>\n",
              "      <td>0.0</td>\n",
              "    </tr>\n",
              "    <tr>\n",
              "      <th>1</th>\n",
              "      <td>রাজাকারদের মন্ত্রী বানানোর দায়ে তার আরও কঠিন ...</td>\n",
              "      <td>Political</td>\n",
              "      <td>1.0</td>\n",
              "    </tr>\n",
              "    <tr>\n",
              "      <th>2</th>\n",
              "      <td>বৃটিশ নাগরিকদের বাংলাদেশ ভ্রমনে সতর্কতা জারী ২...</td>\n",
              "      <td>Geopolitical</td>\n",
              "      <td>3.0</td>\n",
              "    </tr>\n",
              "    <tr>\n",
              "      <th>3</th>\n",
              "      <td>বলদ নয়াদিগন্ত কালকে রিপোর্ট করলো হিলারী শপথ ন...</td>\n",
              "      <td>Political</td>\n",
              "      <td>1.0</td>\n",
              "    </tr>\n",
              "    <tr>\n",
              "      <th>4</th>\n",
              "      <td>অসভ্য বর্বর বেহায়া ভোট ডাকাত সকল প্রকার খারাপ...</td>\n",
              "      <td>Geopolitical</td>\n",
              "      <td>3.0</td>\n",
              "    </tr>\n",
              "  </tbody>\n",
              "</table>\n",
              "</div>\n",
              "    <div class=\"colab-df-buttons\">\n",
              "\n",
              "  <div class=\"colab-df-container\">\n",
              "    <button class=\"colab-df-convert\" onclick=\"convertToInteractive('df-d0921014-abd8-497b-8d9f-3b5d2ff9f19f')\"\n",
              "            title=\"Convert this dataframe to an interactive table.\"\n",
              "            style=\"display:none;\">\n",
              "\n",
              "  <svg xmlns=\"http://www.w3.org/2000/svg\" height=\"24px\" viewBox=\"0 -960 960 960\">\n",
              "    <path d=\"M120-120v-720h720v720H120Zm60-500h600v-160H180v160Zm220 220h160v-160H400v160Zm0 220h160v-160H400v160ZM180-400h160v-160H180v160Zm440 0h160v-160H620v160ZM180-180h160v-160H180v160Zm440 0h160v-160H620v160Z\"/>\n",
              "  </svg>\n",
              "    </button>\n",
              "\n",
              "  <style>\n",
              "    .colab-df-container {\n",
              "      display:flex;\n",
              "      gap: 12px;\n",
              "    }\n",
              "\n",
              "    .colab-df-convert {\n",
              "      background-color: #E8F0FE;\n",
              "      border: none;\n",
              "      border-radius: 50%;\n",
              "      cursor: pointer;\n",
              "      display: none;\n",
              "      fill: #1967D2;\n",
              "      height: 32px;\n",
              "      padding: 0 0 0 0;\n",
              "      width: 32px;\n",
              "    }\n",
              "\n",
              "    .colab-df-convert:hover {\n",
              "      background-color: #E2EBFA;\n",
              "      box-shadow: 0px 1px 2px rgba(60, 64, 67, 0.3), 0px 1px 3px 1px rgba(60, 64, 67, 0.15);\n",
              "      fill: #174EA6;\n",
              "    }\n",
              "\n",
              "    .colab-df-buttons div {\n",
              "      margin-bottom: 4px;\n",
              "    }\n",
              "\n",
              "    [theme=dark] .colab-df-convert {\n",
              "      background-color: #3B4455;\n",
              "      fill: #D2E3FC;\n",
              "    }\n",
              "\n",
              "    [theme=dark] .colab-df-convert:hover {\n",
              "      background-color: #434B5C;\n",
              "      box-shadow: 0px 1px 3px 1px rgba(0, 0, 0, 0.15);\n",
              "      filter: drop-shadow(0px 1px 2px rgba(0, 0, 0, 0.3));\n",
              "      fill: #FFFFFF;\n",
              "    }\n",
              "  </style>\n",
              "\n",
              "    <script>\n",
              "      const buttonEl =\n",
              "        document.querySelector('#df-d0921014-abd8-497b-8d9f-3b5d2ff9f19f button.colab-df-convert');\n",
              "      buttonEl.style.display =\n",
              "        google.colab.kernel.accessAllowed ? 'block' : 'none';\n",
              "\n",
              "      async function convertToInteractive(key) {\n",
              "        const element = document.querySelector('#df-d0921014-abd8-497b-8d9f-3b5d2ff9f19f');\n",
              "        const dataTable =\n",
              "          await google.colab.kernel.invokeFunction('convertToInteractive',\n",
              "                                                    [key], {});\n",
              "        if (!dataTable) return;\n",
              "\n",
              "        const docLinkHtml = 'Like what you see? Visit the ' +\n",
              "          '<a target=\"_blank\" href=https://colab.research.google.com/notebooks/data_table.ipynb>data table notebook</a>'\n",
              "          + ' to learn more about interactive tables.';\n",
              "        element.innerHTML = '';\n",
              "        dataTable['output_type'] = 'display_data';\n",
              "        await google.colab.output.renderOutput(dataTable, element);\n",
              "        const docLink = document.createElement('div');\n",
              "        docLink.innerHTML = docLinkHtml;\n",
              "        element.appendChild(docLink);\n",
              "      }\n",
              "    </script>\n",
              "  </div>\n",
              "\n",
              "\n",
              "<div id=\"df-3f8efb89-186d-487e-a7bd-7d29d24e4981\">\n",
              "  <button class=\"colab-df-quickchart\" onclick=\"quickchart('df-3f8efb89-186d-487e-a7bd-7d29d24e4981')\"\n",
              "            title=\"Suggest charts\"\n",
              "            style=\"display:none;\">\n",
              "\n",
              "<svg xmlns=\"http://www.w3.org/2000/svg\" height=\"24px\"viewBox=\"0 0 24 24\"\n",
              "     width=\"24px\">\n",
              "    <g>\n",
              "        <path d=\"M19 3H5c-1.1 0-2 .9-2 2v14c0 1.1.9 2 2 2h14c1.1 0 2-.9 2-2V5c0-1.1-.9-2-2-2zM9 17H7v-7h2v7zm4 0h-2V7h2v10zm4 0h-2v-4h2v4z\"/>\n",
              "    </g>\n",
              "</svg>\n",
              "  </button>\n",
              "\n",
              "<style>\n",
              "  .colab-df-quickchart {\n",
              "      --bg-color: #E8F0FE;\n",
              "      --fill-color: #1967D2;\n",
              "      --hover-bg-color: #E2EBFA;\n",
              "      --hover-fill-color: #174EA6;\n",
              "      --disabled-fill-color: #AAA;\n",
              "      --disabled-bg-color: #DDD;\n",
              "  }\n",
              "\n",
              "  [theme=dark] .colab-df-quickchart {\n",
              "      --bg-color: #3B4455;\n",
              "      --fill-color: #D2E3FC;\n",
              "      --hover-bg-color: #434B5C;\n",
              "      --hover-fill-color: #FFFFFF;\n",
              "      --disabled-bg-color: #3B4455;\n",
              "      --disabled-fill-color: #666;\n",
              "  }\n",
              "\n",
              "  .colab-df-quickchart {\n",
              "    background-color: var(--bg-color);\n",
              "    border: none;\n",
              "    border-radius: 50%;\n",
              "    cursor: pointer;\n",
              "    display: none;\n",
              "    fill: var(--fill-color);\n",
              "    height: 32px;\n",
              "    padding: 0;\n",
              "    width: 32px;\n",
              "  }\n",
              "\n",
              "  .colab-df-quickchart:hover {\n",
              "    background-color: var(--hover-bg-color);\n",
              "    box-shadow: 0 1px 2px rgba(60, 64, 67, 0.3), 0 1px 3px 1px rgba(60, 64, 67, 0.15);\n",
              "    fill: var(--button-hover-fill-color);\n",
              "  }\n",
              "\n",
              "  .colab-df-quickchart-complete:disabled,\n",
              "  .colab-df-quickchart-complete:disabled:hover {\n",
              "    background-color: var(--disabled-bg-color);\n",
              "    fill: var(--disabled-fill-color);\n",
              "    box-shadow: none;\n",
              "  }\n",
              "\n",
              "  .colab-df-spinner {\n",
              "    border: 2px solid var(--fill-color);\n",
              "    border-color: transparent;\n",
              "    border-bottom-color: var(--fill-color);\n",
              "    animation:\n",
              "      spin 1s steps(1) infinite;\n",
              "  }\n",
              "\n",
              "  @keyframes spin {\n",
              "    0% {\n",
              "      border-color: transparent;\n",
              "      border-bottom-color: var(--fill-color);\n",
              "      border-left-color: var(--fill-color);\n",
              "    }\n",
              "    20% {\n",
              "      border-color: transparent;\n",
              "      border-left-color: var(--fill-color);\n",
              "      border-top-color: var(--fill-color);\n",
              "    }\n",
              "    30% {\n",
              "      border-color: transparent;\n",
              "      border-left-color: var(--fill-color);\n",
              "      border-top-color: var(--fill-color);\n",
              "      border-right-color: var(--fill-color);\n",
              "    }\n",
              "    40% {\n",
              "      border-color: transparent;\n",
              "      border-right-color: var(--fill-color);\n",
              "      border-top-color: var(--fill-color);\n",
              "    }\n",
              "    60% {\n",
              "      border-color: transparent;\n",
              "      border-right-color: var(--fill-color);\n",
              "    }\n",
              "    80% {\n",
              "      border-color: transparent;\n",
              "      border-right-color: var(--fill-color);\n",
              "      border-bottom-color: var(--fill-color);\n",
              "    }\n",
              "    90% {\n",
              "      border-color: transparent;\n",
              "      border-bottom-color: var(--fill-color);\n",
              "    }\n",
              "  }\n",
              "</style>\n",
              "\n",
              "  <script>\n",
              "    async function quickchart(key) {\n",
              "      const quickchartButtonEl =\n",
              "        document.querySelector('#' + key + ' button');\n",
              "      quickchartButtonEl.disabled = true;  // To prevent multiple clicks.\n",
              "      quickchartButtonEl.classList.add('colab-df-spinner');\n",
              "      try {\n",
              "        const charts = await google.colab.kernel.invokeFunction(\n",
              "            'suggestCharts', [key], {});\n",
              "      } catch (error) {\n",
              "        console.error('Error during call to suggestCharts:', error);\n",
              "      }\n",
              "      quickchartButtonEl.classList.remove('colab-df-spinner');\n",
              "      quickchartButtonEl.classList.add('colab-df-quickchart-complete');\n",
              "    }\n",
              "    (() => {\n",
              "      let quickchartButtonEl =\n",
              "        document.querySelector('#df-3f8efb89-186d-487e-a7bd-7d29d24e4981 button');\n",
              "      quickchartButtonEl.style.display =\n",
              "        google.colab.kernel.accessAllowed ? 'block' : 'none';\n",
              "    })();\n",
              "  </script>\n",
              "</div>\n",
              "    </div>\n",
              "  </div>\n"
            ]
          },
          "metadata": {},
          "execution_count": 3
        }
      ],
      "source": [
        "# Let's import and prep the datasets\n",
        "\n",
        "data=pd.read_csv('/content/gdrive/MyDrive/SoftCom_Project/input/train.csv', sep=',', encoding='utf-8')\n",
        "\n",
        "data.info()\n",
        "data.head()"
      ]
    },
    {
      "cell_type": "code",
      "execution_count": 4,
      "metadata": {
        "colab": {
          "base_uri": "https://localhost:8080/"
        },
        "id": "uIN5-DvlhJ-N",
        "outputId": "e1e21dfa-c36d-4b0e-f4ea-c59bc9c77e13"
      },
      "outputs": [
        {
          "output_type": "stream",
          "name": "stdout",
          "text": [
            "<class 'pandas.core.series.Series'>\n",
            "RangeIndex: 5890 entries, 0 to 5889\n",
            "Series name: text\n",
            "Non-Null Count  Dtype \n",
            "--------------  ----- \n",
            "5888 non-null   object\n",
            "dtypes: object(1)\n",
            "memory usage: 46.1+ KB\n"
          ]
        }
      ],
      "source": [
        "# splitting the dataset\n",
        "data_unlabeled = data['text']\n",
        "len(data_unlabeled)\n",
        "data_labels = data['label']\n",
        "data_targets = data['target']\n",
        "data_unlabeled.info()"
      ]
    },
    {
      "cell_type": "code",
      "execution_count": 5,
      "metadata": {
        "colab": {
          "base_uri": "https://localhost:8080/",
          "height": 542
        },
        "id": "Tm-eR2HkTFxS",
        "outputId": "3028fe87-8211-4f04-fd48-c710115ed1bd"
      },
      "outputs": [
        {
          "output_type": "display_data",
          "data": {
            "text/html": [
              "<html>\n",
              "<head><meta charset=\"utf-8\" /></head>\n",
              "<body>\n",
              "    <div>            <script src=\"https://cdnjs.cloudflare.com/ajax/libs/mathjax/2.7.5/MathJax.js?config=TeX-AMS-MML_SVG\"></script><script type=\"text/javascript\">if (window.MathJax && window.MathJax.Hub && window.MathJax.Hub.Config) {window.MathJax.Hub.Config({SVG: {font: \"STIX-Web\"}});}</script>                <script type=\"text/javascript\">window.PlotlyConfig = {MathJaxConfig: 'local'};</script>\n",
              "        <script charset=\"utf-8\" src=\"https://cdn.plot.ly/plotly-2.24.1.min.js\"></script>                <div id=\"3c417f32-daa2-462e-9ed3-ab0f62693c0e\" class=\"plotly-graph-div\" style=\"height:525px; width:100%;\"></div>            <script type=\"text/javascript\">                                    window.PLOTLYENV=window.PLOTLYENV || {};                                    if (document.getElementById(\"3c417f32-daa2-462e-9ed3-ab0f62693c0e\")) {                    Plotly.newPlot(                        \"3c417f32-daa2-462e-9ed3-ab0f62693c0e\",                        [{\"alignmentgroup\":\"True\",\"hovertemplate\":\"Words=%{x}\\u003cbr\\u003eFrequency=%{y}\\u003cextra\\u003e\\u003c\\u002fextra\\u003e\",\"legendgroup\":\"\",\"marker\":{\"color\":\"#636efa\",\"pattern\":{\"shape\":\"\"}},\"name\":\"\",\"offsetgroup\":\"\",\"orientation\":\"v\",\"showlegend\":false,\"textposition\":\"auto\",\"x\":[\"\\u09a8\\u09be\",\"\\u0986\\u09b0\",\"\\u0995\\u09b0\\u09c7\",\"\\u0995\\u09bf\",\"\\u098f\\u0987\",\"\\u0993\",\"\\u09ad\\u09be\\u09b0\\u09a4\",\"\\u0995\\u09c7\",\"\\u09b9\\u09af\\u09bc\",\"\\u09ad\\u09be\\u09b0\\u09a4\\u09c7\\u09b0\",\"\\u0964\",\"\\u09a4\\u09cb\",\"\\u0986\\u09ae\\u09bf\",\"\\u099c\\u09a8\\u09cd\\u09af\",\"\\u09af\\u09c7\",\"\\u09a5\\u09c7\\u0995\\u09c7\",\"\\u098f\\u0995\\u099f\\u09be\",\"\\u09b8\\u09be\\u09a5\\u09c7\",\"\\u09a6\\u09bf\\u09af\\u09bc\\u09c7\",\"\\u0995\\u09cb\\u09a8\",\"\\u0995\\u09b0\\u09a4\\u09c7\",\"\\u09b9\\u09ac\\u09c7\",\"\\u09a8\\u09bf\\u09af\\u09bc\\u09c7\",\"\\u0995\\u09a5\\u09be\",\"\\u0986\\u09ae\\u09be\\u09b0\",\"\\u09b9\\u09af\\u09bc\\u09c7\",\"\\u0995\\u09b0\\u09be\",\"\\u09b8\\u09ac\",\"\\u098f\\u09b0\",\"\\u09a4\\u09c1\\u0987\",\"\\u09a4\\u09cb\\u09b0\",\"\\u0986\\u09ae\\u09be\\u09a6\\u09c7\\u09b0\",\"\\u09ac\\u09b2\\u09c7\",\"\\u09a8\\u09be\\u0964\",\"\\u09a4\\u09be\\u09b0\",\"\\u09a4\\u09be\\u09a6\\u09c7\\u09b0\",\"\\u09ac\\u09be\\u0982\\u09b2\\u09be\\u09a6\\u09c7\\u09b6\\u09c7\\u09b0\",\"\\u0995\\u09bf\\u099b\\u09c1\",\"\\u09ae\\u09a8\\u09c7\",\"\\u098f\\u0996\\u09a8\",\"\\u0986\\u099b\\u09c7\",\"\\u0995\\u09bf\\u09a8\\u09cd\\u09a4\\u09c1\",\"\\u09ae\\u09c1\\u09b8\\u09b2\\u09bf\\u09ae\",\"\\u09af\\u09a6\\u09bf\",\"\\u098f\\u0995\",\"\\u09ac\\u09be\\u0982\\u09b2\\u09be\\u09a6\\u09c7\\u09b6\",\"\\u09ae\\u09be\\u09a8\\u09c1\\u09b7\",\"\\u09ae\\u09a4\",\"\\u0986\\u09ae\\u09b0\\u09be\",\"\\u09a4\\u09be\\u09b0\\u09be\"],\"xaxis\":\"x\",\"y\":[958,797,777,618,611,431,424,405,374,365,360,333,326,322,310,300,293,291,289,287,276,274,273,270,266,265,260,256,244,243,243,233,233,226,224,221,217,209,208,207,200,198,193,184,183,181,177,173,172,170],\"yaxis\":\"y\",\"type\":\"bar\"}],                        {\"template\":{\"data\":{\"histogram2dcontour\":[{\"type\":\"histogram2dcontour\",\"colorbar\":{\"outlinewidth\":0,\"ticks\":\"\"},\"colorscale\":[[0.0,\"#0d0887\"],[0.1111111111111111,\"#46039f\"],[0.2222222222222222,\"#7201a8\"],[0.3333333333333333,\"#9c179e\"],[0.4444444444444444,\"#bd3786\"],[0.5555555555555556,\"#d8576b\"],[0.6666666666666666,\"#ed7953\"],[0.7777777777777778,\"#fb9f3a\"],[0.8888888888888888,\"#fdca26\"],[1.0,\"#f0f921\"]]}],\"choropleth\":[{\"type\":\"choropleth\",\"colorbar\":{\"outlinewidth\":0,\"ticks\":\"\"}}],\"histogram2d\":[{\"type\":\"histogram2d\",\"colorbar\":{\"outlinewidth\":0,\"ticks\":\"\"},\"colorscale\":[[0.0,\"#0d0887\"],[0.1111111111111111,\"#46039f\"],[0.2222222222222222,\"#7201a8\"],[0.3333333333333333,\"#9c179e\"],[0.4444444444444444,\"#bd3786\"],[0.5555555555555556,\"#d8576b\"],[0.6666666666666666,\"#ed7953\"],[0.7777777777777778,\"#fb9f3a\"],[0.8888888888888888,\"#fdca26\"],[1.0,\"#f0f921\"]]}],\"heatmap\":[{\"type\":\"heatmap\",\"colorbar\":{\"outlinewidth\":0,\"ticks\":\"\"},\"colorscale\":[[0.0,\"#0d0887\"],[0.1111111111111111,\"#46039f\"],[0.2222222222222222,\"#7201a8\"],[0.3333333333333333,\"#9c179e\"],[0.4444444444444444,\"#bd3786\"],[0.5555555555555556,\"#d8576b\"],[0.6666666666666666,\"#ed7953\"],[0.7777777777777778,\"#fb9f3a\"],[0.8888888888888888,\"#fdca26\"],[1.0,\"#f0f921\"]]}],\"heatmapgl\":[{\"type\":\"heatmapgl\",\"colorbar\":{\"outlinewidth\":0,\"ticks\":\"\"},\"colorscale\":[[0.0,\"#0d0887\"],[0.1111111111111111,\"#46039f\"],[0.2222222222222222,\"#7201a8\"],[0.3333333333333333,\"#9c179e\"],[0.4444444444444444,\"#bd3786\"],[0.5555555555555556,\"#d8576b\"],[0.6666666666666666,\"#ed7953\"],[0.7777777777777778,\"#fb9f3a\"],[0.8888888888888888,\"#fdca26\"],[1.0,\"#f0f921\"]]}],\"contourcarpet\":[{\"type\":\"contourcarpet\",\"colorbar\":{\"outlinewidth\":0,\"ticks\":\"\"}}],\"contour\":[{\"type\":\"contour\",\"colorbar\":{\"outlinewidth\":0,\"ticks\":\"\"},\"colorscale\":[[0.0,\"#0d0887\"],[0.1111111111111111,\"#46039f\"],[0.2222222222222222,\"#7201a8\"],[0.3333333333333333,\"#9c179e\"],[0.4444444444444444,\"#bd3786\"],[0.5555555555555556,\"#d8576b\"],[0.6666666666666666,\"#ed7953\"],[0.7777777777777778,\"#fb9f3a\"],[0.8888888888888888,\"#fdca26\"],[1.0,\"#f0f921\"]]}],\"surface\":[{\"type\":\"surface\",\"colorbar\":{\"outlinewidth\":0,\"ticks\":\"\"},\"colorscale\":[[0.0,\"#0d0887\"],[0.1111111111111111,\"#46039f\"],[0.2222222222222222,\"#7201a8\"],[0.3333333333333333,\"#9c179e\"],[0.4444444444444444,\"#bd3786\"],[0.5555555555555556,\"#d8576b\"],[0.6666666666666666,\"#ed7953\"],[0.7777777777777778,\"#fb9f3a\"],[0.8888888888888888,\"#fdca26\"],[1.0,\"#f0f921\"]]}],\"mesh3d\":[{\"type\":\"mesh3d\",\"colorbar\":{\"outlinewidth\":0,\"ticks\":\"\"}}],\"scatter\":[{\"fillpattern\":{\"fillmode\":\"overlay\",\"size\":10,\"solidity\":0.2},\"type\":\"scatter\"}],\"parcoords\":[{\"type\":\"parcoords\",\"line\":{\"colorbar\":{\"outlinewidth\":0,\"ticks\":\"\"}}}],\"scatterpolargl\":[{\"type\":\"scatterpolargl\",\"marker\":{\"colorbar\":{\"outlinewidth\":0,\"ticks\":\"\"}}}],\"bar\":[{\"error_x\":{\"color\":\"#2a3f5f\"},\"error_y\":{\"color\":\"#2a3f5f\"},\"marker\":{\"line\":{\"color\":\"#E5ECF6\",\"width\":0.5},\"pattern\":{\"fillmode\":\"overlay\",\"size\":10,\"solidity\":0.2}},\"type\":\"bar\"}],\"scattergeo\":[{\"type\":\"scattergeo\",\"marker\":{\"colorbar\":{\"outlinewidth\":0,\"ticks\":\"\"}}}],\"scatterpolar\":[{\"type\":\"scatterpolar\",\"marker\":{\"colorbar\":{\"outlinewidth\":0,\"ticks\":\"\"}}}],\"histogram\":[{\"marker\":{\"pattern\":{\"fillmode\":\"overlay\",\"size\":10,\"solidity\":0.2}},\"type\":\"histogram\"}],\"scattergl\":[{\"type\":\"scattergl\",\"marker\":{\"colorbar\":{\"outlinewidth\":0,\"ticks\":\"\"}}}],\"scatter3d\":[{\"type\":\"scatter3d\",\"line\":{\"colorbar\":{\"outlinewidth\":0,\"ticks\":\"\"}},\"marker\":{\"colorbar\":{\"outlinewidth\":0,\"ticks\":\"\"}}}],\"scattermapbox\":[{\"type\":\"scattermapbox\",\"marker\":{\"colorbar\":{\"outlinewidth\":0,\"ticks\":\"\"}}}],\"scatterternary\":[{\"type\":\"scatterternary\",\"marker\":{\"colorbar\":{\"outlinewidth\":0,\"ticks\":\"\"}}}],\"scattercarpet\":[{\"type\":\"scattercarpet\",\"marker\":{\"colorbar\":{\"outlinewidth\":0,\"ticks\":\"\"}}}],\"carpet\":[{\"aaxis\":{\"endlinecolor\":\"#2a3f5f\",\"gridcolor\":\"white\",\"linecolor\":\"white\",\"minorgridcolor\":\"white\",\"startlinecolor\":\"#2a3f5f\"},\"baxis\":{\"endlinecolor\":\"#2a3f5f\",\"gridcolor\":\"white\",\"linecolor\":\"white\",\"minorgridcolor\":\"white\",\"startlinecolor\":\"#2a3f5f\"},\"type\":\"carpet\"}],\"table\":[{\"cells\":{\"fill\":{\"color\":\"#EBF0F8\"},\"line\":{\"color\":\"white\"}},\"header\":{\"fill\":{\"color\":\"#C8D4E3\"},\"line\":{\"color\":\"white\"}},\"type\":\"table\"}],\"barpolar\":[{\"marker\":{\"line\":{\"color\":\"#E5ECF6\",\"width\":0.5},\"pattern\":{\"fillmode\":\"overlay\",\"size\":10,\"solidity\":0.2}},\"type\":\"barpolar\"}],\"pie\":[{\"automargin\":true,\"type\":\"pie\"}]},\"layout\":{\"autotypenumbers\":\"strict\",\"colorway\":[\"#636efa\",\"#EF553B\",\"#00cc96\",\"#ab63fa\",\"#FFA15A\",\"#19d3f3\",\"#FF6692\",\"#B6E880\",\"#FF97FF\",\"#FECB52\"],\"font\":{\"color\":\"#2a3f5f\"},\"hovermode\":\"closest\",\"hoverlabel\":{\"align\":\"left\"},\"paper_bgcolor\":\"white\",\"plot_bgcolor\":\"#E5ECF6\",\"polar\":{\"bgcolor\":\"#E5ECF6\",\"angularaxis\":{\"gridcolor\":\"white\",\"linecolor\":\"white\",\"ticks\":\"\"},\"radialaxis\":{\"gridcolor\":\"white\",\"linecolor\":\"white\",\"ticks\":\"\"}},\"ternary\":{\"bgcolor\":\"#E5ECF6\",\"aaxis\":{\"gridcolor\":\"white\",\"linecolor\":\"white\",\"ticks\":\"\"},\"baxis\":{\"gridcolor\":\"white\",\"linecolor\":\"white\",\"ticks\":\"\"},\"caxis\":{\"gridcolor\":\"white\",\"linecolor\":\"white\",\"ticks\":\"\"}},\"coloraxis\":{\"colorbar\":{\"outlinewidth\":0,\"ticks\":\"\"}},\"colorscale\":{\"sequential\":[[0.0,\"#0d0887\"],[0.1111111111111111,\"#46039f\"],[0.2222222222222222,\"#7201a8\"],[0.3333333333333333,\"#9c179e\"],[0.4444444444444444,\"#bd3786\"],[0.5555555555555556,\"#d8576b\"],[0.6666666666666666,\"#ed7953\"],[0.7777777777777778,\"#fb9f3a\"],[0.8888888888888888,\"#fdca26\"],[1.0,\"#f0f921\"]],\"sequentialminus\":[[0.0,\"#0d0887\"],[0.1111111111111111,\"#46039f\"],[0.2222222222222222,\"#7201a8\"],[0.3333333333333333,\"#9c179e\"],[0.4444444444444444,\"#bd3786\"],[0.5555555555555556,\"#d8576b\"],[0.6666666666666666,\"#ed7953\"],[0.7777777777777778,\"#fb9f3a\"],[0.8888888888888888,\"#fdca26\"],[1.0,\"#f0f921\"]],\"diverging\":[[0,\"#8e0152\"],[0.1,\"#c51b7d\"],[0.2,\"#de77ae\"],[0.3,\"#f1b6da\"],[0.4,\"#fde0ef\"],[0.5,\"#f7f7f7\"],[0.6,\"#e6f5d0\"],[0.7,\"#b8e186\"],[0.8,\"#7fbc41\"],[0.9,\"#4d9221\"],[1,\"#276419\"]]},\"xaxis\":{\"gridcolor\":\"white\",\"linecolor\":\"white\",\"ticks\":\"\",\"title\":{\"standoff\":15},\"zerolinecolor\":\"white\",\"automargin\":true,\"zerolinewidth\":2},\"yaxis\":{\"gridcolor\":\"white\",\"linecolor\":\"white\",\"ticks\":\"\",\"title\":{\"standoff\":15},\"zerolinecolor\":\"white\",\"automargin\":true,\"zerolinewidth\":2},\"scene\":{\"xaxis\":{\"backgroundcolor\":\"#E5ECF6\",\"gridcolor\":\"white\",\"linecolor\":\"white\",\"showbackground\":true,\"ticks\":\"\",\"zerolinecolor\":\"white\",\"gridwidth\":2},\"yaxis\":{\"backgroundcolor\":\"#E5ECF6\",\"gridcolor\":\"white\",\"linecolor\":\"white\",\"showbackground\":true,\"ticks\":\"\",\"zerolinecolor\":\"white\",\"gridwidth\":2},\"zaxis\":{\"backgroundcolor\":\"#E5ECF6\",\"gridcolor\":\"white\",\"linecolor\":\"white\",\"showbackground\":true,\"ticks\":\"\",\"zerolinecolor\":\"white\",\"gridwidth\":2}},\"shapedefaults\":{\"line\":{\"color\":\"#2a3f5f\"}},\"annotationdefaults\":{\"arrowcolor\":\"#2a3f5f\",\"arrowhead\":0,\"arrowwidth\":1},\"geo\":{\"bgcolor\":\"white\",\"landcolor\":\"#E5ECF6\",\"subunitcolor\":\"white\",\"showland\":true,\"showlakes\":true,\"lakecolor\":\"white\"},\"title\":{\"x\":0.05},\"mapbox\":{\"style\":\"light\"}}},\"xaxis\":{\"anchor\":\"y\",\"domain\":[0.0,1.0],\"title\":{\"text\":\"Words\"}},\"yaxis\":{\"anchor\":\"x\",\"domain\":[0.0,1.0],\"title\":{\"text\":\"Frequency\"}},\"legend\":{\"tracegroupgap\":0},\"margin\":{\"t\":60},\"barmode\":\"relative\",\"title\":{\"font\":{\"size\":18},\"text\":\"Top 50 most used words\"}},                        {\"responsive\": true}                    ).then(function(){\n",
              "                            \n",
              "var gd = document.getElementById('3c417f32-daa2-462e-9ed3-ab0f62693c0e');\n",
              "var x = new MutationObserver(function (mutations, observer) {{\n",
              "        var display = window.getComputedStyle(gd).display;\n",
              "        if (!display || display === 'none') {{\n",
              "            console.log([gd, 'removed!']);\n",
              "            Plotly.purge(gd);\n",
              "            observer.disconnect();\n",
              "        }}\n",
              "}});\n",
              "\n",
              "// Listen for the removal of the full notebook cells\n",
              "var notebookContainer = gd.closest('#notebook-container');\n",
              "if (notebookContainer) {{\n",
              "    x.observe(notebookContainer, {childList: true});\n",
              "}}\n",
              "\n",
              "// Listen for the clearing of the current output cell\n",
              "var outputEl = gd.closest('.output');\n",
              "if (outputEl) {{\n",
              "    x.observe(outputEl, {childList: true});\n",
              "}}\n",
              "\n",
              "                        })                };                            </script>        </div>\n",
              "</body>\n",
              "</html>"
            ]
          },
          "metadata": {}
        }
      ],
      "source": [
        "import collections\n",
        "import plotly.express as px\n",
        "\n",
        "# Assuming df is your DataFrame with Bengali text\n",
        "words = []\n",
        "for text in data['text']:\n",
        "    # Check if the value is not NaN before attempting to split\n",
        "    if isinstance(text, str):\n",
        "        words.extend(text.split())\n",
        "\n",
        "word_count = collections.Counter(words)\n",
        "top_words = dict(word_count.most_common(50))\n",
        "\n",
        "# Create a Plotly bar chart\n",
        "fig = px.bar(x=list(top_words.keys()), y=list(top_words.values()), labels={'x': 'Words', 'y': 'Frequency'})\n",
        "fig.update_layout(title_text='Top 50 most used words', title_font_size=18)\n",
        "fig.show()\n"
      ]
    },
    {
      "cell_type": "code",
      "execution_count": null,
      "metadata": {
        "colab": {
          "base_uri": "https://localhost:8080/",
          "height": 447
        },
        "id": "xf2PITCtVIwz",
        "outputId": "38692f0f-ad10-4601-b988-680501973720"
      },
      "outputs": [
        {
          "output_type": "execute_result",
          "data": {
            "text/plain": [
              "<Axes: >"
            ]
          },
          "metadata": {},
          "execution_count": 6
        },
        {
          "output_type": "display_data",
          "data": {
            "text/plain": [
              "<Figure size 640x480 with 1 Axes>"
            ],
            "image/png": "[encoded data removed]"
          },
          "metadata": {}
        }
      ],
      "source": [
        "# a histogram of the values in the data_labels(0,1)\n",
        "data_labels.hist()"
      ]
    },
    {
      "cell_type": "code",
      "execution_count": null,
      "metadata": {
        "colab": {
          "base_uri": "https://localhost:8080/",
          "height": 447
        },
        "id": "7O36LSaBVNRn",
        "outputId": "a2258d06-8939-4b5c-bbb0-bd8bb7cd56a0"
      },
      "outputs": [
        {
          "output_type": "execute_result",
          "data": {
            "text/plain": [
              "<Axes: >"
            ]
          },
          "metadata": {},
          "execution_count": 7
        },
        {
          "output_type": "display_data",
          "data": {
            "text/plain": [
              "<Figure size 640x480 with 1 Axes>"
            ],
            "image/png": "[encoded data removed]"
          },
          "metadata": {}
        }
      ],
      "source": [
        "data_targets.hist()"
      ]
    },
    {
      "cell_type": "code",
      "execution_count": null,
      "metadata": {
        "colab": {
          "base_uri": "https://localhost:8080/"
        },
        "id": "4kBCCbU_bdCj",
        "outputId": "f3aa3e51-9ae9-4af1-8073-90a99741d4ba"
      },
      "outputs": [
        {
          "output_type": "stream",
          "name": "stdout",
          "text": [
            "3\n"
          ]
        }
      ],
      "source": [
        "print(data_labels.isna().sum())"
      ]
    },
    {
      "cell_type": "code",
      "execution_count": null,
      "metadata": {
        "id": "RI67Enz7bziq"
      },
      "outputs": [],
      "source": [
        "data_labels = data_labels.dropna()\n",
        "data_unlabeled = data_unlabeled[data_labels.index]"
      ]
    },
    {
      "cell_type": "code",
      "execution_count": null,
      "metadata": {
        "colab": {
          "base_uri": "https://localhost:8080/"
        },
        "id": "f2pwclqbcXqa",
        "outputId": "d8dd9ea4-0c8d-481c-a3a2-3eb5efadbeea"
      },
      "outputs": [
        {
          "output_type": "stream",
          "name": "stdout",
          "text": [
            "0\n"
          ]
        }
      ],
      "source": [
        "print(data_labels.isna().sum())"
      ]
    },
    {
      "cell_type": "code",
      "execution_count": null,
      "metadata": {
        "colab": {
          "base_uri": "https://localhost:8080/"
        },
        "id": "czayft9HhZqI",
        "outputId": "c7dfe556-5c4c-4bcc-9f2d-0f9f6f7e3b3a"
      },
      "outputs": [
        {
          "output_type": "stream",
          "name": "stdout",
          "text": [
            "3\n"
          ]
        }
      ],
      "source": [
        "print(data_targets.isna().sum())"
      ]
    },
    {
      "cell_type": "code",
      "execution_count": null,
      "metadata": {
        "id": "567axJCmhjKf"
      },
      "outputs": [],
      "source": [
        "data_targets = data_targets.dropna()\n",
        "data_unlabeled = data_unlabeled[data_labels.index]"
      ]
    },
    {
      "cell_type": "code",
      "execution_count": null,
      "metadata": {
        "colab": {
          "base_uri": "https://localhost:8080/"
        },
        "id": "kSVRg8JlhqfI",
        "outputId": "d96961e8-d07a-417f-d65a-fedad54392e1"
      },
      "outputs": [
        {
          "output_type": "stream",
          "name": "stdout",
          "text": [
            "0\n"
          ]
        }
      ],
      "source": [
        "print(data_targets.isna().sum())"
      ]
    },
    {
      "cell_type": "code",
      "execution_count": null,
      "metadata": {
        "colab": {
          "base_uri": "https://localhost:8080/"
        },
        "id": "7jU3xfP7Do6L",
        "outputId": "359df302-3cf7-4bb0-ed97-0cc0f5614f24"
      },
      "outputs": [
        {
          "output_type": "stream",
          "name": "stderr",
          "text": [
            "[nltk_data] Downloading package punkt to /root/nltk_data...\n",
            "[nltk_data]   Unzipping tokenizers/punkt.zip.\n"
          ]
        },
        {
          "output_type": "execute_result",
          "data": {
            "text/plain": [
              "True"
            ]
          },
          "metadata": {},
          "execution_count": 14
        }
      ],
      "source": [
        "import nltk\n",
        "nltk.download('punkt')"
      ]
    },
    {
      "cell_type": "code",
      "execution_count": null,
      "metadata": {
        "id": "swIt_f8S-aXd"
      },
      "outputs": [],
      "source": [
        "import csv\n",
        "stop_words='/content/gdrive/MyDrive/SoftCom_Project/input/stopwords-bn.txt'\n",
        "text_data=[]\n",
        "\n",
        "with open(stop_words,'r',encoding='utf-8') as temp_output_file:\n",
        "    reader=csv.reader(temp_output_file, delimiter='\\n')\n",
        "    for row in reader:\n",
        "        text_data.append(row)\n",
        "stop_word_list=[x[0] for x in text_data]"
      ]
    },
    {
      "cell_type": "code",
      "execution_count": null,
      "metadata": {
        "id": "fUPucLoN_gHO"
      },
      "outputs": [],
      "source": [
        "from nltk.corpus import stopwords\n",
        "from nltk.tokenize import word_tokenize\n",
        "from nltk.tokenize.treebank import TreebankWordDetokenizer\n",
        "\n",
        "stop_words = set(stop_word_list)\n",
        "\n",
        "def textCleaner(example_sent):\n",
        "      if not isinstance(example_sent, str):\n",
        "         return ''  # or any other value you want to use for non-string input\n",
        "      word_tokens = word_tokenize(example_sent)\n",
        "    #filtered_sentence = [w for w in word_tokens if not w in stop_words]\n",
        "      filtered_train = TreebankWordDetokenizer().detokenize(word_tokens)\n",
        "\n",
        "      return filtered_train\n"
      ]
    },
    {
      "cell_type": "code",
      "execution_count": null,
      "metadata": {
        "id": "5eQlZxCR_m9i"
      },
      "outputs": [],
      "source": [
        "filtered_data = data_unlabeled.apply(textCleaner)"
      ]
    },
    {
      "cell_type": "code",
      "execution_count": null,
      "metadata": {
        "colab": {
          "base_uri": "https://localhost:8080/"
        },
        "id": "0NFXiqP-EiF7",
        "outputId": "c1073bab-6d16-4949-efd2-6446d49da20f"
      },
      "outputs": [
        {
          "output_type": "execute_result",
          "data": {
            "text/plain": [
              "0              ৭৫ হামলার আসামী কে এই গডফাদার কালা মন্দির?\n",
              "1       রাজাকারদের মন্ত্রী বানানোর দায়ে তার আরও কঠিন ...\n",
              "2       বৃটিশ নাগরিকদের বাংলাদেশ ভ্রমনে সতর্কতা জারী ২...\n",
              "3       বলদ নয়াদিগন্ত কালকে রিপোর্ট করলো হিলারী শপথ ন...\n",
              "4       অসভ্য বর্বর বেহায়া ভোট ডাকাত সকল প্রকার খারাপ...\n",
              "                              ...                        \n",
              "5883    কতটা! জানোয়ার হলে দাদা নামের কুলাঙ্গার তার সা...\n",
              "5884    ঐ শুয়োরের মুখে কোষে দুটা জুতার বারি মার ঐ খান...\n",
              "5885          তাকে বলে দিও, লিঙ্গ মুখে নিলে বাচ্চা হয় না\n",
              "5886      হেসে লাভ নাই, এইবার মাইর খাবা। কোন মাফ পাবা না।\n",
              "5887    মাহি যে ব্যক্তি একটা মেম্বার হওয়ার যোগ্য না ব...\n",
              "Name: text, Length: 5887, dtype: object"
            ]
          },
          "metadata": {},
          "execution_count": 18
        }
      ],
      "source": [
        "filtered_data"
      ]
    },
    {
      "cell_type": "code",
      "execution_count": null,
      "metadata": {
        "colab": {
          "base_uri": "https://localhost:8080/"
        },
        "id": "hAPGrTJKE56N",
        "outputId": "12a6931f-0cad-4242-afe2-2e8e7d71c927"
      },
      "outputs": [
        {
          "output_type": "execute_result",
          "data": {
            "text/plain": [
              "Personal        2561\n",
              "Geopolitical    1691\n",
              "Religious        908\n",
              "Political        727\n",
              "Name: label, dtype: int64"
            ]
          },
          "metadata": {},
          "execution_count": 19
        }
      ],
      "source": [
        "data_labels.value_counts()"
      ]
    },
    {
      "cell_type": "code",
      "execution_count": null,
      "metadata": {
        "colab": {
          "base_uri": "https://localhost:8080/"
        },
        "id": "1_P-deuOE8Fb",
        "outputId": "c4ac811d-f66b-44f8-ba22-57569ca0931d"
      },
      "outputs": [
        {
          "output_type": "execute_result",
          "data": {
            "text/plain": [
              "0.0    2561\n",
              "3.0    1691\n",
              "2.0     908\n",
              "1.0     727\n",
              "Name: target, dtype: int64"
            ]
          },
          "metadata": {},
          "execution_count": 20
        }
      ],
      "source": [
        "data_targets.value_counts()"
      ]
    },
    {
      "cell_type": "code",
      "execution_count": null,
      "metadata": {
        "colab": {
          "base_uri": "https://localhost:8080/"
        },
        "id": "lUiiux-BWk73",
        "outputId": "77f63444-8e88-4b6f-d486-661b5ddf64c8"
      },
      "outputs": [
        {
          "output_type": "execute_result",
          "data": {
            "text/plain": [
              "(5887, 2149)"
            ]
          },
          "metadata": {},
          "execution_count": 21
        }
      ],
      "source": [
        "from sklearn.feature_extraction.text import TfidfVectorizer\n",
        "\n",
        "n=1\n",
        "ngram_range=(n, n)\n",
        "vectorizer = TfidfVectorizer(ngram_range=ngram_range)\n",
        "X = vectorizer.fit_transform(filtered_data)\n",
        "tfidf_matrix = pd.DataFrame(X.toarray(), columns = vectorizer.get_feature_names_out())\n",
        "X.shape"
      ]
    },
    {
      "cell_type": "code",
      "execution_count": null,
      "metadata": {
        "colab": {
          "base_uri": "https://localhost:8080/"
        },
        "id": "-dxUf0ZxXVYf",
        "outputId": "9000aaff-b1a3-42c8-daff-7b396d79cfbb"
      },
      "outputs": [
        {
          "output_type": "stream",
          "name": "stdout",
          "text": [
            "  (0, 1568)\t0.21881261748963823\n",
            "  (0, 771)\t0.5927652330572553\n",
            "  (0, 431)\t0.22007548723182593\n",
            "  (0, 230)\t0.307570404659013\n",
            "  (0, 1597)\t0.3261089104609906\n",
            "  (0, 2135)\t0.5927652330572553\n",
            "  (1, 149)\t0.33590565057071164\n",
            "  (1, 643)\t0.540677551957528\n",
            "  (1, 210)\t0.5783069584305693\n",
            "  (1, 1728)\t0.42492389146416076\n",
            "  (1, 1568)\t0.2825525208127148\n",
            "  (2, 1366)\t0.32798509609132204\n",
            "  (2, 1470)\t0.16684850733596374\n",
            "  (2, 1776)\t0.3881761043500066\n",
            "  (2, 139)\t0.22106184723997324\n",
            "  (2, 2093)\t0.4235734240059394\n",
            "  (2, 646)\t0.2283324337040222\n",
            "  (2, 1933)\t0.4028673193811788\n",
            "  (2, 1757)\t0.34968283454431937\n",
            "  (2, 657)\t0.2999711837635991\n",
            "  (2, 810)\t0.24274535083921198\n",
            "  (3, 2028)\t0.23225608417086133\n",
            "  (3, 1768)\t0.3352909765242813\n",
            "  (3, 585)\t0.22494997130840083\n",
            "  (3, 1859)\t0.48037494700646977\n",
            "  :\t:\n",
            "  (5881, 686)\t0.1482996648440402\n",
            "  (5881, 1568)\t0.214919317043279\n",
            "  (5882, 1414)\t0.41587837165840796\n",
            "  (5882, 1890)\t0.40413610961574153\n",
            "  (5882, 651)\t0.5157722170764184\n",
            "  (5882, 1202)\t0.2750382819824389\n",
            "  (5882, 1081)\t0.39555456697238717\n",
            "  (5882, 693)\t0.30233863787118337\n",
            "  (5882, 2047)\t0.2723602045547654\n",
            "  (5883, 2051)\t0.37469841830307343\n",
            "  (5883, 656)\t0.2550050619650849\n",
            "  (5883, 318)\t0.3242021292232748\n",
            "  (5883, 1224)\t0.2834424397333835\n",
            "  (5883, 495)\t0.5991676891132843\n",
            "  (5883, 1327)\t0.44860632202326256\n",
            "  (5883, 431)\t0.22108216712762768\n",
            "  (5884, 2040)\t0.6711618494982604\n",
            "  (5884, 1470)\t0.7413108469313494\n",
            "  (5885, 444)\t0.8254230850915638\n",
            "  (5885, 315)\t0.5645145973293562\n",
            "  (5886, 1301)\t0.8947633606308705\n",
            "  (5886, 1619)\t0.28715223354340264\n",
            "  (5886, 2014)\t0.26831439572891735\n",
            "  (5886, 686)\t0.11395478128753084\n",
            "  (5886, 461)\t0.17878427254633775\n"
          ]
        }
      ],
      "source": [
        "from sklearn import preprocessing\n",
        "X = preprocessing.normalize(X)\n",
        "print(X)"
      ]
    },
    {
      "cell_type": "code",
      "execution_count": null,
      "metadata": {
        "colab": {
          "base_uri": "https://localhost:8080/"
        },
        "id": "GIHF58WWgrc_",
        "outputId": "dc1b0180-4695-475f-ee12-d43298017ce0"
      },
      "outputs": [
        {
          "output_type": "stream",
          "name": "stdout",
          "text": [
            "Number of missing values in X: 0\n"
          ]
        }
      ],
      "source": [
        "print(\"Number of missing values in X:\", X.size - X.count_nonzero())\n"
      ]
    },
    {
      "cell_type": "code",
      "execution_count": null,
      "metadata": {
        "colab": {
          "base_uri": "https://localhost:8080/"
        },
        "id": "eoYOKE30hLNm",
        "outputId": "5bedf05c-7b57-497e-fda7-de014c069acc"
      },
      "outputs": [
        {
          "output_type": "stream",
          "name": "stdout",
          "text": [
            "0\n"
          ]
        }
      ],
      "source": [
        "print(data_targets.isna().sum())"
      ]
    },
    {
      "cell_type": "code",
      "execution_count": null,
      "metadata": {
        "colab": {
          "base_uri": "https://localhost:8080/"
        },
        "id": "oWsvSgtqfKVR",
        "outputId": "d4ebe937-9a8e-477c-eb69-9f1d9b9fb0c3"
      },
      "outputs": [
        {
          "output_type": "stream",
          "name": "stdout",
          "text": [
            "Number of samples in X: 41365\n",
            "Number of samples in data_targets: 5887\n"
          ]
        }
      ],
      "source": [
        "print(\"Number of samples in X:\", X.getnnz())\n",
        "print(\"Number of samples in data_targets:\", len(data_targets))\n",
        "\n"
      ]
    },
    {
      "cell_type": "code",
      "execution_count": null,
      "metadata": {
        "id": "n78sikApFCdy"
      },
      "outputs": [],
      "source": [
        "from sklearn.model_selection import train_test_split\n",
        "\n",
        "x_train, x_test, y_train, y_test = train_test_split(X, data_targets,train_size = 0.8, test_size=0.2, random_state=42)"
      ]
    },
    {
      "cell_type": "code",
      "execution_count": null,
      "metadata": {
        "id": "TJx49C2UZu-k"
      },
      "outputs": [],
      "source": [
        "import numpy as np\n",
        "import matplotlib.pyplot as plt\n",
        "\n",
        "from sklearn import metrics\n",
        "from sklearn.metrics import confusion_matrix\n",
        "import itertools\n",
        "\n",
        "# Helper function to print accuracy, precision, recall, F1 for multi-class classification\n",
        "def print_metrics(target_test, predicted):\n",
        "    print(\"%-12s %f\" % ('Accuracy:', metrics.accuracy_score(target_test, predicted)))\n",
        "    print(\"%-12s %f\" % ('Precision:', metrics.precision_score(target_test, predicted, average='weighted')))\n",
        "    print(\"%-12s %f\" % ('Recall:', metrics.recall_score(target_test, predicted, average='weighted')))\n",
        "    print(\"%-12s %f\" % ('F1 Score:', metrics.f1_score(target_test, predicted, average='weighted')))\n",
        "\n",
        "# Helper function that allows you to draw nicely formatted confusion matrices for multi-class classification\n",
        "def draw_confusion_matrix(y, yhat, classes):\n",
        "    plt.cla()\n",
        "    plt.clf()\n",
        "    matrix = confusion_matrix(y, yhat)\n",
        "    plt.imshow(matrix, interpolation='nearest', cmap=plt.cm.Blues)\n",
        "    plt.title(\"Confusion Matrix\")\n",
        "    plt.colorbar()\n",
        "    num_classes = len(classes)\n",
        "    plt.xticks(np.arange(num_classes), classes, rotation=90)\n",
        "    plt.yticks(np.arange(num_classes), classes)\n",
        "\n",
        "    fmt = 'd'\n",
        "    thresh = matrix.max() / 2.\n",
        "    for i, j in itertools.product(range(matrix.shape[0]), range(matrix.shape[1])):\n",
        "        plt.text(j, i, format(matrix[i, j], fmt),\n",
        "                 horizontalalignment=\"center\",\n",
        "                 color=\"white\" if matrix[i, j] > thresh else \"black\")\n",
        "\n",
        "    plt.ylabel('True label')\n",
        "    plt.xlabel('Predicted label')\n",
        "    plt.tight_layout()\n",
        "    plt.show()"
      ]
    },
    {
      "cell_type": "code",
      "execution_count": null,
      "metadata": {
        "colab": {
          "base_uri": "https://localhost:8080/"
        },
        "id": "RtrY6xr9ih5N",
        "outputId": "2866e65f-1ece-47cd-807e-7844a3eca1c2"
      },
      "outputs": [
        {
          "output_type": "stream",
          "name": "stdout",
          "text": [
            "Number of features in x_train: 2149\n",
            "Number of features in x_test: 2149\n"
          ]
        }
      ],
      "source": [
        "print(\"Number of features in x_train:\", x_train.shape[1])\n",
        "print(\"Number of features in x_test:\", x_test.shape[1])\n"
      ]
    },
    {
      "cell_type": "code",
      "execution_count": null,
      "metadata": {
        "colab": {
          "base_uri": "https://localhost:8080/",
          "height": 556
        },
        "id": "sp_SzKMlZnDs",
        "outputId": "f808360f-2180-4f9a-cca3-66e55ecace3e"
      },
      "outputs": [
        {
          "output_type": "stream",
          "name": "stdout",
          "text": [
            "Accuracy:    0.668930\n",
            "Precision:   0.685213\n",
            "Recall:      0.668930\n",
            "F1 Score:    0.648019\n"
          ]
        },
        {
          "output_type": "display_data",
          "data": {
            "text/plain": [
              "<Figure size 640x480 with 2 Axes>"
            ],
            "image/png": "[encoded data removed]"
          },
          "metadata": {}
        }
      ],
      "source": [
        "# fitting the dataset to a logistic regression model\n",
        "import numpy as np\n",
        "from sklearn.linear_model import LogisticRegression\n",
        "\n",
        "log_reg = LogisticRegression(penalty='l2', max_iter=1000)\n",
        "\n",
        "log_reg.fit(x_train, y_train)\n",
        "log_predicted = log_reg.predict(x_test)\n",
        "log_score = log_reg.predict_proba(x_test)[:,1]\n",
        "\n",
        "print_metrics(y_test, log_predicted)\n",
        "draw_confusion_matrix(y_test, log_predicted, classes=['Personal', 'Geopolitical', 'Religious', 'Political'])"
      ]
    },
    {
      "cell_type": "code",
      "execution_count": null,
      "metadata": {
        "id": "Av5J2DMPuydk"
      },
      "outputs": [],
      "source": [
        "from keras.preprocessing.text import Tokenizer\n",
        "from keras.utils import to_categorical\n",
        "from keras.preprocessing.sequence import pad_sequences\n",
        "from sklearn.model_selection import train_test_split\n",
        "\n",
        "max_features = 2000\n",
        "\n",
        "# Assuming you have filtered_train and data_labels for your training data\n",
        "tokenizer = Tokenizer(num_words=max_features, split=' ')\n",
        "tokenizer.fit_on_texts(filtered_data)\n",
        "X_tokenized = tokenizer.texts_to_sequences(filtered_data)\n",
        "X_padded = pad_sequences(X_tokenized)\n",
        "\n",
        "# Encode labels into categorical format\n",
        "y_categorical = to_categorical(data_targets, num_classes=4)\n",
        "\n",
        "# Split the data\n",
        "X_train_rnn, X_test_rnn, y_train_rnn, y_test_rnn = train_test_split(X_padded, y_categorical, test_size=0.2, random_state=4)\n"
      ]
    },
    {
      "cell_type": "code",
      "execution_count": null,
      "metadata": {
        "colab": {
          "base_uri": "https://localhost:8080/"
        },
        "id": "fNu75M_Gu321",
        "outputId": "f0d5fea1-da36-4a02-a0a0-ffc050963133"
      },
      "outputs": [
        {
          "output_type": "execute_result",
          "data": {
            "text/plain": [
              "(5887, 85)"
            ]
          },
          "metadata": {},
          "execution_count": 31
        }
      ],
      "source": [
        "X_padded.shape"
      ]
    },
    {
      "cell_type": "code",
      "source": [
        "import numpy as np\n",
        "\n",
        "# Assuming y_categorical is your one-hot encoded labels\n",
        "class_counts = np.sum(y_categorical, axis=0)\n",
        "\n",
        "# Print the counts for each class\n",
        "for i, count in enumerate(class_counts):\n",
        "    print(f\"Class {i + 1}: {count} data points\")\n"
      ],
      "metadata": {
        "colab": {
          "base_uri": "https://localhost:8080/"
        },
        "id": "kf8JAbJ1UXwG",
        "outputId": "5abaf1a7-9b6f-4615-f8dc-8a3d824f9478"
      },
      "execution_count": null,
      "outputs": [
        {
          "output_type": "stream",
          "name": "stdout",
          "text": [
            "Class 1: 2561.0 data points\n",
            "Class 2: 727.0 data points\n",
            "Class 3: 908.0 data points\n",
            "Class 4: 1691.0 data points\n"
          ]
        }
      ]
    },
    {
      "cell_type": "code",
      "execution_count": null,
      "metadata": {
        "colab": {
          "base_uri": "https://localhost:8080/"
        },
        "id": "B466nvbPu-8N",
        "outputId": "10e7d502-c968-4e05-c15c-bff70e116235"
      },
      "outputs": [
        {
          "output_type": "stream",
          "name": "stdout",
          "text": [
            "Epoch 1/50\n",
            "148/148 [==============================] - 20s 75ms/step - loss: 2.0990 - accuracy: 0.3177 - val_loss: 1.6928 - val_accuracy: 0.4363\n",
            "Epoch 2/50\n",
            "148/148 [==============================] - 5s 36ms/step - loss: 1.8780 - accuracy: 0.3876 - val_loss: 1.6474 - val_accuracy: 0.4363\n",
            "Epoch 3/50\n",
            "148/148 [==============================] - 3s 17ms/step - loss: 1.7469 - accuracy: 0.4523 - val_loss: 1.6024 - val_accuracy: 0.4610\n",
            "Epoch 4/50\n",
            "148/148 [==============================] - 3s 19ms/step - loss: 1.6437 - accuracy: 0.4916 - val_loss: 1.4915 - val_accuracy: 0.5866\n",
            "Epoch 5/50\n",
            "148/148 [==============================] - 4s 26ms/step - loss: 1.5539 - accuracy: 0.5371 - val_loss: 1.3698 - val_accuracy: 0.6197\n",
            "Epoch 6/50\n",
            "148/148 [==============================] - 2s 15ms/step - loss: 1.4411 - accuracy: 0.5793 - val_loss: 1.3069 - val_accuracy: 0.6265\n",
            "Epoch 7/50\n",
            "148/148 [==============================] - 2s 16ms/step - loss: 1.3696 - accuracy: 0.6031 - val_loss: 1.2029 - val_accuracy: 0.6732\n",
            "Epoch 8/50\n",
            "148/148 [==============================] - 3s 17ms/step - loss: 1.2932 - accuracy: 0.6475 - val_loss: 1.1449 - val_accuracy: 0.7020\n",
            "Epoch 9/50\n",
            "148/148 [==============================] - 3s 17ms/step - loss: 1.2044 - accuracy: 0.6721 - val_loss: 1.1135 - val_accuracy: 0.7139\n",
            "Epoch 10/50\n",
            "148/148 [==============================] - 3s 20ms/step - loss: 1.1563 - accuracy: 0.6957 - val_loss: 1.0712 - val_accuracy: 0.7233\n",
            "Epoch 11/50\n",
            "148/148 [==============================] - 2s 15ms/step - loss: 1.0779 - accuracy: 0.7256 - val_loss: 1.0524 - val_accuracy: 0.7351\n",
            "Epoch 12/50\n",
            "148/148 [==============================] - 2s 16ms/step - loss: 1.0036 - accuracy: 0.7452 - val_loss: 1.0460 - val_accuracy: 0.7385\n",
            "Epoch 13/50\n",
            "148/148 [==============================] - 2s 15ms/step - loss: 0.9842 - accuracy: 0.7545 - val_loss: 1.0189 - val_accuracy: 0.7530\n",
            "Epoch 14/50\n",
            "148/148 [==============================] - 2s 14ms/step - loss: 0.9324 - accuracy: 0.7696 - val_loss: 1.0427 - val_accuracy: 0.7504\n",
            "Epoch 15/50\n",
            "148/148 [==============================] - 3s 18ms/step - loss: 0.8845 - accuracy: 0.7825 - val_loss: 1.1600 - val_accuracy: 0.7275\n",
            "Epoch 16/50\n",
            "148/148 [==============================] - 2s 16ms/step - loss: 0.8501 - accuracy: 0.8029 - val_loss: 0.9767 - val_accuracy: 0.7572\n",
            "Epoch 17/50\n",
            "148/148 [==============================] - 2s 14ms/step - loss: 0.8223 - accuracy: 0.8048 - val_loss: 1.0100 - val_accuracy: 0.7674\n",
            "Epoch 18/50\n",
            "148/148 [==============================] - 2s 14ms/step - loss: 0.7881 - accuracy: 0.8186 - val_loss: 1.0839 - val_accuracy: 0.7453\n",
            "Epoch 19/50\n",
            "148/148 [==============================] - 2s 15ms/step - loss: 0.7481 - accuracy: 0.8305 - val_loss: 1.1250 - val_accuracy: 0.7419\n",
            "Epoch 20/50\n",
            "148/148 [==============================] - 4s 24ms/step - loss: 0.7246 - accuracy: 0.8390 - val_loss: 0.9531 - val_accuracy: 0.7691\n",
            "Epoch 21/50\n",
            "148/148 [==============================] - 3s 17ms/step - loss: 0.7092 - accuracy: 0.8437 - val_loss: 1.0293 - val_accuracy: 0.7606\n",
            "Epoch 22/50\n",
            "148/148 [==============================] - 2s 15ms/step - loss: 0.6708 - accuracy: 0.8490 - val_loss: 1.0385 - val_accuracy: 0.7284\n",
            "Epoch 23/50\n",
            "148/148 [==============================] - 2s 15ms/step - loss: 0.6548 - accuracy: 0.8577 - val_loss: 0.9695 - val_accuracy: 0.7699\n",
            "Epoch 24/50\n",
            "148/148 [==============================] - 2s 13ms/step - loss: 0.6302 - accuracy: 0.8618 - val_loss: 0.9855 - val_accuracy: 0.7657\n",
            "Epoch 25/50\n",
            "148/148 [==============================] - 2s 15ms/step - loss: 0.6042 - accuracy: 0.8660 - val_loss: 1.0144 - val_accuracy: 0.7572\n",
            "Epoch 26/50\n",
            "148/148 [==============================] - 3s 17ms/step - loss: 0.5848 - accuracy: 0.8807 - val_loss: 1.0281 - val_accuracy: 0.7589\n",
            "Epoch 27/50\n",
            "148/148 [==============================] - 2s 15ms/step - loss: 0.5614 - accuracy: 0.8809 - val_loss: 1.0450 - val_accuracy: 0.7598\n",
            "Epoch 28/50\n",
            "148/148 [==============================] - 2s 14ms/step - loss: 0.5259 - accuracy: 0.8925 - val_loss: 1.1160 - val_accuracy: 0.7233\n",
            "Epoch 29/50\n",
            "148/148 [==============================] - 2s 14ms/step - loss: 0.5221 - accuracy: 0.8900 - val_loss: 1.1186 - val_accuracy: 0.7419\n",
            "Epoch 30/50\n",
            "148/148 [==============================] - 2s 16ms/step - loss: 0.5269 - accuracy: 0.8862 - val_loss: 1.0476 - val_accuracy: 0.7683\n",
            "Epoch 31/50\n",
            "148/148 [==============================] - 2s 15ms/step - loss: 0.4859 - accuracy: 0.8991 - val_loss: 0.9661 - val_accuracy: 0.7699\n",
            "Epoch 32/50\n",
            "148/148 [==============================] - 3s 19ms/step - loss: 0.4791 - accuracy: 0.9044 - val_loss: 0.9895 - val_accuracy: 0.7733\n",
            "Epoch 33/50\n",
            "148/148 [==============================] - 2s 15ms/step - loss: 0.4707 - accuracy: 0.9055 - val_loss: 1.0307 - val_accuracy: 0.7691\n",
            "Epoch 34/50\n",
            "148/148 [==============================] - 2s 13ms/step - loss: 0.4601 - accuracy: 0.9053 - val_loss: 1.0296 - val_accuracy: 0.7683\n",
            "Epoch 35/50\n",
            "148/148 [==============================] - 2s 13ms/step - loss: 0.4332 - accuracy: 0.9104 - val_loss: 1.0612 - val_accuracy: 0.7462\n",
            "Epoch 36/50\n",
            "148/148 [==============================] - 2s 14ms/step - loss: 0.4139 - accuracy: 0.9170 - val_loss: 1.1307 - val_accuracy: 0.7326\n",
            "Epoch 37/50\n",
            "148/148 [==============================] - 2s 15ms/step - loss: 0.4050 - accuracy: 0.9170 - val_loss: 1.0230 - val_accuracy: 0.7742\n",
            "Epoch 38/50\n",
            "148/148 [==============================] - 3s 18ms/step - loss: 0.3762 - accuracy: 0.9261 - val_loss: 1.0832 - val_accuracy: 0.7470\n",
            "Epoch 39/50\n",
            "148/148 [==============================] - 2s 14ms/step - loss: 0.3747 - accuracy: 0.9295 - val_loss: 1.1626 - val_accuracy: 0.7377\n",
            "Epoch 40/50\n",
            "148/148 [==============================] - 2s 14ms/step - loss: 0.3640 - accuracy: 0.9297 - val_loss: 1.0726 - val_accuracy: 0.7521\n",
            "Epoch 41/50\n",
            "148/148 [==============================] - 2s 14ms/step - loss: 0.3457 - accuracy: 0.9352 - val_loss: 1.1014 - val_accuracy: 0.7708\n",
            "Epoch 42/50\n",
            "148/148 [==============================] - 2s 13ms/step - loss: 0.3417 - accuracy: 0.9346 - val_loss: 1.2176 - val_accuracy: 0.7182\n",
            "Epoch 43/50\n",
            "148/148 [==============================] - 2s 16ms/step - loss: 0.3307 - accuracy: 0.9384 - val_loss: 2.0597 - val_accuracy: 0.4958\n",
            "Epoch 44/50\n",
            "148/148 [==============================] - 2s 16ms/step - loss: 0.3075 - accuracy: 0.9439 - val_loss: 1.1495 - val_accuracy: 0.7564\n",
            "Epoch 45/50\n",
            "148/148 [==============================] - 2s 13ms/step - loss: 0.3044 - accuracy: 0.9418 - val_loss: 1.1351 - val_accuracy: 0.7632\n",
            "Epoch 46/50\n",
            "148/148 [==============================] - 2s 15ms/step - loss: 0.2959 - accuracy: 0.9439 - val_loss: 1.0850 - val_accuracy: 0.7521\n",
            "Epoch 47/50\n",
            "148/148 [==============================] - 2s 13ms/step - loss: 0.2846 - accuracy: 0.9482 - val_loss: 1.1018 - val_accuracy: 0.7496\n",
            "37/37 [==============================] - 0s 6ms/step - loss: 1.0230 - accuracy: 0.7742\n",
            "Test loss:  1.0229893922805786\n",
            "Test accuracy:  0.774193525314331\n"
          ]
        }
      ],
      "source": [
        "from keras.models import Sequential\n",
        "from keras.layers import Embedding, Dense, BatchNormalization, Dropout\n",
        "from keras.optimizers import Adam\n",
        "from keras.callbacks import EarlyStopping\n",
        "from keras import layers, regularizers\n",
        "from sklearn.model_selection import train_test_split\n",
        "from keras.preprocessing.text import Tokenizer\n",
        "from keras.preprocessing.sequence import pad_sequences\n",
        "from keras.utils import to_categorical\n",
        "\n",
        "# hyperparameters\n",
        "embed_vec_size = 120\n",
        "num_layers = 200\n",
        "batch_size = 32\n",
        "learning_rate = 0.0001\n",
        "dropout_rate = 0.5\n",
        "reg_strength = 0.005\n",
        "patience = 10\n",
        "\n",
        "# Build the model\n",
        "model = Sequential()\n",
        "model.add(Embedding(input_dim=max_features, output_dim=embed_vec_size))\n",
        "model.add(layers.LSTM(num_layers, dropout=dropout_rate, return_sequences=True))\n",
        "model.add(BatchNormalization())\n",
        "model.add(layers.LSTM(num_layers, dropout=dropout_rate))\n",
        "model.add(BatchNormalization())\n",
        "model.add(Dropout(dropout_rate))\n",
        "model.add(Dense(units=50, activation='relu', kernel_regularizer=regularizers.l2(reg_strength)))\n",
        "model.add(Dense(units=4, activation='softmax'))  # Use 'softmax' for multi-class classification\n",
        "\n",
        "# Compile the model\n",
        "early_stopping = EarlyStopping(monitor='val_accuracy', patience=patience, restore_best_weights=True)\n",
        "model.compile(optimizer=Adam(learning_rate=learning_rate), loss='categorical_crossentropy', metrics=['accuracy'])\n",
        "\n",
        "# Train the model\n",
        "hist = model.fit(X_train_rnn, y_train_rnn, epochs=50, batch_size=batch_size,\n",
        "                 validation_data=(X_test_rnn, y_test_rnn), callbacks=[early_stopping])\n",
        "\n",
        "# Evaluate the model\n",
        "score = model.evaluate(X_test_rnn, y_test_rnn)\n",
        "\n",
        "print('Test loss: ', score[0])\n",
        "print('Test accuracy: ', score[1])\n"
      ]
    },
    {
      "cell_type": "code",
      "source": [
        "import matplotlib.pyplot as plt\n",
        "\n",
        "# Assuming `hist` is the training history obtained during model training\n",
        "\n",
        "# Plot training accuracy and validation loss on the same graph\n",
        "plt.figure(figsize=(10, 6))\n",
        "\n",
        "# Plot training accuracy\n",
        "plt.plot(hist.history['accuracy'], label='Train Accuracy', color='blue')\n",
        "plt.xlabel('Epoch')\n",
        "plt.ylabel('Accuracy', color='blue')\n",
        "plt.tick_params(axis='y', labelcolor='blue')\n",
        "plt.legend(loc='upper left')\n",
        "\n",
        "# Create a second y-axis for validation loss\n",
        "plt.twinx()\n",
        "\n",
        "# Plot validation loss\n",
        "plt.plot(hist.history['val_loss'], label='Validation Loss', color='red')\n",
        "plt.ylabel('Loss', color='red')\n",
        "plt.tick_params(axis='y', labelcolor='red')\n",
        "plt.legend(loc='upper right')\n",
        "\n",
        "plt.title('Training Accuracy and Validation Loss')\n",
        "plt.show()\n",
        "\n",
        "\n"
      ],
      "metadata": {
        "colab": {
          "base_uri": "https://localhost:8080/",
          "height": 564
        },
        "id": "4bTnp-xoY7zu",
        "outputId": "2194f787-1b25-4a70-9242-379e7812da99"
      },
      "execution_count": null,
      "outputs": [
        {
          "output_type": "display_data",
          "data": {
            "text/plain": [
              "<Figure size 1000x600 with 2 Axes>"
            ],
            "image/png": "[encoded data removed]"
          },
          "metadata": {}
        }
      ]
    },
    {
      "cell_type": "code",
      "source": [
        "from keras.models import Sequential\n",
        "from keras.layers import Embedding, Dense, BatchNormalization, Dropout, LSTM, Bidirectional\n",
        "from keras.optimizers import Adam\n",
        "from keras.callbacks import EarlyStopping\n",
        "from keras import regularizers\n",
        "from sklearn.model_selection import train_test_split\n",
        "from keras.preprocessing.text import Tokenizer\n",
        "from keras.preprocessing.sequence import pad_sequences\n",
        "from keras.utils import to_categorical\n",
        "\n",
        "# hyperparameters\n",
        "embed_vec_size = 120\n",
        "num_layers = 200\n",
        "batch_size = 32\n",
        "learning_rate = 0.0001\n",
        "dropout_rate = 0.5\n",
        "reg_strength = 0.005\n",
        "patience = 10\n",
        "\n",
        "# Build the model\n",
        "model = Sequential()\n",
        "model.add(Embedding(input_dim=max_features, output_dim=embed_vec_size))\n",
        "model.add(Bidirectional(LSTM(num_layers, dropout=dropout_rate, return_sequences=True)))\n",
        "model.add(BatchNormalization())\n",
        "model.add(Bidirectional(LSTM(num_layers, dropout=dropout_rate)))\n",
        "model.add(BatchNormalization())\n",
        "model.add(Dropout(dropout_rate))\n",
        "model.add(Dense(units=50, activation='relu', kernel_regularizer=regularizers.l2(reg_strength)))\n",
        "model.add(Dense(units=4, activation='softmax'))  # Use 'softmax' for multi-class classification\n",
        "\n",
        "# Compile the model\n",
        "early_stopping = EarlyStopping(monitor='val_accuracy', patience=patience, restore_best_weights=True)\n",
        "model.compile(optimizer=Adam(learning_rate=learning_rate), loss='categorical_crossentropy', metrics=['accuracy'])\n",
        "\n",
        "# Train the model\n",
        "hist = model.fit(X_train_rnn, y_train_rnn, epochs=50, batch_size=batch_size,\n",
        "                 validation_data=(X_test_rnn, y_test_rnn), callbacks=[early_stopping])\n",
        "\n",
        "# Evaluate the model\n",
        "score = model.evaluate(X_test_rnn, y_test_rnn)\n",
        "\n",
        "print('Test loss: ', score[0])\n",
        "print('Test accuracy: ', score[1])\n"
      ],
      "metadata": {
        "id": "090aVW7xBZOr",
        "colab": {
          "base_uri": "https://localhost:8080/"
        },
        "outputId": "72a880d4-f89b-4d01-cb50-b9366bc98e29"
      },
      "execution_count": null,
      "outputs": [
        {
          "output_type": "stream",
          "name": "stdout",
          "text": [
            "Epoch 1/50\n",
            "148/148 [==============================] - 23s 104ms/step - loss: 2.6389 - accuracy: 0.2485 - val_loss: 1.7754 - val_accuracy: 0.4363\n",
            "Epoch 2/50\n",
            "148/148 [==============================] - 6s 42ms/step - loss: 2.1327 - accuracy: 0.3478 - val_loss: 1.7314 - val_accuracy: 0.4024\n",
            "Epoch 3/50\n",
            "148/148 [==============================] - 5s 33ms/step - loss: 1.9422 - accuracy: 0.4251 - val_loss: 1.6160 - val_accuracy: 0.5280\n",
            "Epoch 4/50\n",
            "148/148 [==============================] - 5s 31ms/step - loss: 1.7331 - accuracy: 0.4963 - val_loss: 1.4512 - val_accuracy: 0.6053\n",
            "Epoch 5/50\n",
            "148/148 [==============================] - 4s 30ms/step - loss: 1.6137 - accuracy: 0.5466 - val_loss: 1.3659 - val_accuracy: 0.6231\n",
            "Epoch 6/50\n",
            "148/148 [==============================] - 5s 32ms/step - loss: 1.4719 - accuracy: 0.6039 - val_loss: 1.3426 - val_accuracy: 0.6426\n",
            "Epoch 7/50\n",
            "148/148 [==============================] - 4s 29ms/step - loss: 1.3788 - accuracy: 0.6354 - val_loss: 1.2409 - val_accuracy: 0.7088\n",
            "Epoch 8/50\n",
            "148/148 [==============================] - 4s 27ms/step - loss: 1.2515 - accuracy: 0.6770 - val_loss: 1.2258 - val_accuracy: 0.7012\n",
            "Epoch 9/50\n",
            "148/148 [==============================] - 5s 34ms/step - loss: 1.1626 - accuracy: 0.7118 - val_loss: 1.1907 - val_accuracy: 0.7385\n",
            "Epoch 10/50\n",
            "148/148 [==============================] - 5s 32ms/step - loss: 1.0985 - accuracy: 0.7475 - val_loss: 1.1661 - val_accuracy: 0.7233\n",
            "Epoch 11/50\n",
            "148/148 [==============================] - 4s 27ms/step - loss: 1.0437 - accuracy: 0.7613 - val_loss: 1.1532 - val_accuracy: 0.7411\n",
            "Epoch 12/50\n",
            "148/148 [==============================] - 4s 30ms/step - loss: 0.9754 - accuracy: 0.7798 - val_loss: 1.1933 - val_accuracy: 0.7504\n",
            "Epoch 13/50\n",
            "148/148 [==============================] - 4s 29ms/step - loss: 0.9094 - accuracy: 0.8044 - val_loss: 1.1624 - val_accuracy: 0.7496\n",
            "Epoch 14/50\n",
            "148/148 [==============================] - 4s 26ms/step - loss: 0.9033 - accuracy: 0.8048 - val_loss: 1.2018 - val_accuracy: 0.7479\n",
            "Epoch 15/50\n",
            "148/148 [==============================] - 4s 30ms/step - loss: 0.8443 - accuracy: 0.8203 - val_loss: 1.1616 - val_accuracy: 0.7538\n",
            "Epoch 16/50\n",
            "148/148 [==============================] - 4s 26ms/step - loss: 0.8020 - accuracy: 0.8352 - val_loss: 1.1594 - val_accuracy: 0.7564\n",
            "Epoch 17/50\n",
            "148/148 [==============================] - 4s 28ms/step - loss: 0.7632 - accuracy: 0.8513 - val_loss: 1.2110 - val_accuracy: 0.7606\n",
            "Epoch 18/50\n",
            "148/148 [==============================] - 4s 28ms/step - loss: 0.7387 - accuracy: 0.8577 - val_loss: 1.1685 - val_accuracy: 0.7615\n",
            "Epoch 19/50\n",
            "148/148 [==============================] - 5s 31ms/step - loss: 0.7060 - accuracy: 0.8696 - val_loss: 1.1732 - val_accuracy: 0.7513\n",
            "Epoch 20/50\n",
            "148/148 [==============================] - 4s 25ms/step - loss: 0.6795 - accuracy: 0.8736 - val_loss: 1.1834 - val_accuracy: 0.7691\n",
            "Epoch 21/50\n",
            "148/148 [==============================] - 4s 27ms/step - loss: 0.6435 - accuracy: 0.8834 - val_loss: 1.2028 - val_accuracy: 0.7708\n",
            "Epoch 22/50\n",
            "148/148 [==============================] - 4s 29ms/step - loss: 0.6190 - accuracy: 0.8879 - val_loss: 1.1993 - val_accuracy: 0.7725\n",
            "Epoch 23/50\n",
            "148/148 [==============================] - 4s 29ms/step - loss: 0.5777 - accuracy: 0.9027 - val_loss: 1.2585 - val_accuracy: 0.7428\n",
            "Epoch 24/50\n",
            "148/148 [==============================] - 4s 29ms/step - loss: 0.5857 - accuracy: 0.8983 - val_loss: 1.2201 - val_accuracy: 0.7606\n",
            "Epoch 25/50\n",
            "148/148 [==============================] - 4s 28ms/step - loss: 0.5549 - accuracy: 0.9083 - val_loss: 1.2013 - val_accuracy: 0.7530\n",
            "Epoch 26/50\n",
            "148/148 [==============================] - 4s 25ms/step - loss: 0.5316 - accuracy: 0.9127 - val_loss: 1.2321 - val_accuracy: 0.7623\n",
            "Epoch 27/50\n",
            "148/148 [==============================] - 4s 30ms/step - loss: 0.5262 - accuracy: 0.9127 - val_loss: 1.1902 - val_accuracy: 0.7598\n",
            "Epoch 28/50\n",
            "148/148 [==============================] - 4s 28ms/step - loss: 0.4938 - accuracy: 0.9195 - val_loss: 1.2204 - val_accuracy: 0.7674\n",
            "Epoch 29/50\n",
            "148/148 [==============================] - 4s 28ms/step - loss: 0.4792 - accuracy: 0.9221 - val_loss: 1.2610 - val_accuracy: 0.7572\n",
            "Epoch 30/50\n",
            "148/148 [==============================] - 4s 29ms/step - loss: 0.4578 - accuracy: 0.9276 - val_loss: 1.2506 - val_accuracy: 0.7606\n",
            "Epoch 31/50\n",
            "148/148 [==============================] - 4s 30ms/step - loss: 0.4462 - accuracy: 0.9308 - val_loss: 1.2950 - val_accuracy: 0.7496\n",
            "Epoch 32/50\n",
            "148/148 [==============================] - 4s 25ms/step - loss: 0.4304 - accuracy: 0.9312 - val_loss: 1.2503 - val_accuracy: 0.7504\n",
            "37/37 [==============================] - 0s 10ms/step - loss: 1.1993 - accuracy: 0.7725\n",
            "Test loss:  1.199288249015808\n",
            "Test accuracy:  0.7724957466125488\n"
          ]
        }
      ]
    },
    {
      "cell_type": "code",
      "source": [
        "import matplotlib.pyplot as plt\n",
        "\n",
        "# Assuming `hist` is the training history obtained during model training\n",
        "\n",
        "# Plot training accuracy and validation loss on the same graph\n",
        "plt.figure(figsize=(10, 6))\n",
        "\n",
        "# Plot training accuracy\n",
        "plt.plot(hist.history['accuracy'], label='Train Accuracy', color='blue')\n",
        "plt.xlabel('Epoch')\n",
        "plt.ylabel('Accuracy', color='blue')\n",
        "plt.tick_params(axis='y', labelcolor='blue')\n",
        "plt.legend(loc='upper left')\n",
        "\n",
        "# Create a second y-axis for validation loss\n",
        "plt.twinx()\n",
        "\n",
        "# Plot validation loss\n",
        "plt.plot(hist.history['val_loss'], label='Validation Loss', color='red')\n",
        "plt.ylabel('Loss', color='red')\n",
        "plt.tick_params(axis='y', labelcolor='red')\n",
        "plt.legend(loc='upper right')\n",
        "\n",
        "plt.title('Training Accuracy and Validation Loss')\n",
        "plt.show()\n"
      ],
      "metadata": {
        "colab": {
          "base_uri": "https://localhost:8080/",
          "height": 564
        },
        "id": "7GqymMx6bzxI",
        "outputId": "0a952de3-9509-4d88-be53-8a1c740aad92"
      },
      "execution_count": null,
      "outputs": [
        {
          "output_type": "display_data",
          "data": {
            "text/plain": [
              "<Figure size 1000x600 with 2 Axes>"
            ],
            "image/png": "[encoded data removed]"
          },
          "metadata": {}
        }
      ]
    },
    {
      "cell_type": "code",
      "source": [
        "from keras.models import Sequential\n",
        "from keras.layers import Embedding, Dense, BatchNormalization, Dropout, LSTM, Bidirectional, Conv1D, MaxPooling1D\n",
        "from keras.optimizers import Adam\n",
        "from keras.callbacks import EarlyStopping\n",
        "from keras import regularizers\n",
        "from sklearn.model_selection import train_test_split\n",
        "from keras.preprocessing.text import Tokenizer\n",
        "from keras.preprocessing.sequence import pad_sequences\n",
        "from keras.utils import to_categorical\n",
        "\n",
        "# Assuming you have filtered_train and data_labels for your training data\n",
        "max_features = 2000\n",
        "\n",
        "# Tokenizing and padding the data for RNN\n",
        "tokenizer = Tokenizer(num_words=max_features, split=' ')\n",
        "tokenizer.fit_on_texts(filtered_data)\n",
        "X_tokenized = tokenizer.texts_to_sequences(filtered_data)\n",
        "X_padded = pad_sequences(X_tokenized)\n",
        "\n",
        "# Encode labels into categorical format\n",
        "y_categorical = to_categorical(data_targets, num_classes=4)\n",
        "\n",
        "# Split the data\n",
        "X_train_rnn, X_test_rnn, y_train_rnn, y_test_rnn = train_test_split(X_padded, y_categorical, test_size=0.2, random_state=4)\n",
        "\n",
        "# hyperparameters\n",
        "embed_vec_size = 120\n",
        "num_layers = 200\n",
        "batch_size = 32\n",
        "learning_rate = 0.0001\n",
        "dropout_rate = 0.5\n",
        "reg_strength = 0.005\n",
        "patience = 10\n",
        "\n",
        "# Build the model\n",
        "model = Sequential()\n",
        "model.add(Embedding(input_dim=max_features, output_dim=embed_vec_size))\n",
        "model.add(Conv1D(filters=64, kernel_size=5, activation='relu'))\n",
        "model.add(MaxPooling1D(pool_size=2))\n",
        "model.add(Bidirectional(LSTM(num_layers, dropout=dropout_rate, return_sequences=True)))\n",
        "model.add(BatchNormalization())\n",
        "model.add(Bidirectional(LSTM(num_layers, dropout=dropout_rate)))\n",
        "model.add(BatchNormalization())\n",
        "model.add(Dropout(dropout_rate))\n",
        "model.add(Dense(units=50, activation='relu', kernel_regularizer=regularizers.l2(reg_strength)))\n",
        "model.add(Dense(units=4, activation='softmax'))  # Use 'softmax' for multi-class classification\n",
        "\n",
        "# Compile the model\n",
        "early_stopping = EarlyStopping(monitor='val_accuracy', patience=patience, restore_best_weights=True)\n",
        "model.compile(optimizer=Adam(learning_rate=learning_rate), loss='categorical_crossentropy', metrics=['accuracy'])\n",
        "\n",
        "# Train the model\n",
        "hist = model.fit(X_train_rnn, y_train_rnn, epochs=100, batch_size=batch_size,\n",
        "                 validation_data=(X_test_rnn, y_test_rnn), callbacks=[early_stopping])\n",
        "\n",
        "# Evaluate the model\n",
        "score = model.evaluate(X_test_rnn, y_test_rnn)\n",
        "\n",
        "print('Test loss: ', score[0])\n",
        "print('Test accuracy: ', score[1])\n"
      ],
      "metadata": {
        "id": "xUmlftv2EBWx",
        "colab": {
          "base_uri": "https://localhost:8080/"
        },
        "outputId": "2b002123-f935-4219-fa98-4bb8a61a65a3"
      },
      "execution_count": null,
      "outputs": [
        {
          "output_type": "stream",
          "name": "stdout",
          "text": [
            "Epoch 1/100\n",
            "148/148 [==============================] - 23s 89ms/step - loss: 2.1284 - accuracy: 0.3289 - val_loss: 1.7759 - val_accuracy: 0.4363\n",
            "Epoch 2/100\n",
            "148/148 [==============================] - 5s 32ms/step - loss: 1.8194 - accuracy: 0.4190 - val_loss: 1.7094 - val_accuracy: 0.4550\n",
            "Epoch 3/100\n",
            "148/148 [==============================] - 4s 29ms/step - loss: 1.6794 - accuracy: 0.4859 - val_loss: 1.6216 - val_accuracy: 0.5221\n",
            "Epoch 4/100\n",
            "148/148 [==============================] - 3s 24ms/step - loss: 1.5578 - accuracy: 0.5445 - val_loss: 1.4876 - val_accuracy: 0.6019\n",
            "Epoch 5/100\n",
            "148/148 [==============================] - 3s 20ms/step - loss: 1.4259 - accuracy: 0.6042 - val_loss: 1.3972 - val_accuracy: 0.6197\n",
            "Epoch 6/100\n",
            "148/148 [==============================] - 3s 20ms/step - loss: 1.3151 - accuracy: 0.6449 - val_loss: 1.3270 - val_accuracy: 0.6384\n",
            "Epoch 7/100\n",
            "148/148 [==============================] - 3s 23ms/step - loss: 1.2223 - accuracy: 0.6857 - val_loss: 1.2358 - val_accuracy: 0.6825\n",
            "Epoch 8/100\n",
            "148/148 [==============================] - 3s 21ms/step - loss: 1.0920 - accuracy: 0.7331 - val_loss: 1.2056 - val_accuracy: 0.7037\n",
            "Epoch 9/100\n",
            "148/148 [==============================] - 3s 18ms/step - loss: 0.9656 - accuracy: 0.7819 - val_loss: 1.2665 - val_accuracy: 0.6757\n",
            "Epoch 10/100\n",
            "148/148 [==============================] - 3s 18ms/step - loss: 0.8954 - accuracy: 0.8014 - val_loss: 1.1985 - val_accuracy: 0.7122\n",
            "Epoch 11/100\n",
            "148/148 [==============================] - 3s 18ms/step - loss: 0.8063 - accuracy: 0.8354 - val_loss: 1.2138 - val_accuracy: 0.7046\n",
            "Epoch 12/100\n",
            "148/148 [==============================] - 3s 22ms/step - loss: 0.7478 - accuracy: 0.8535 - val_loss: 1.1239 - val_accuracy: 0.7317\n",
            "Epoch 13/100\n",
            "148/148 [==============================] - 3s 18ms/step - loss: 0.7016 - accuracy: 0.8673 - val_loss: 1.1656 - val_accuracy: 0.7343\n",
            "Epoch 14/100\n",
            "148/148 [==============================] - 3s 18ms/step - loss: 0.6352 - accuracy: 0.8904 - val_loss: 1.2349 - val_accuracy: 0.7207\n",
            "Epoch 15/100\n",
            "148/148 [==============================] - 2s 16ms/step - loss: 0.5893 - accuracy: 0.8993 - val_loss: 1.3891 - val_accuracy: 0.7173\n",
            "Epoch 16/100\n",
            "148/148 [==============================] - 3s 22ms/step - loss: 0.5588 - accuracy: 0.9095 - val_loss: 1.2726 - val_accuracy: 0.7326\n",
            "Epoch 17/100\n",
            "148/148 [==============================] - 3s 19ms/step - loss: 0.5065 - accuracy: 0.9216 - val_loss: 1.2121 - val_accuracy: 0.7360\n",
            "Epoch 18/100\n",
            "148/148 [==============================] - 3s 17ms/step - loss: 0.4997 - accuracy: 0.9195 - val_loss: 1.2975 - val_accuracy: 0.7275\n",
            "Epoch 19/100\n",
            "148/148 [==============================] - 3s 18ms/step - loss: 0.4631 - accuracy: 0.9267 - val_loss: 1.2114 - val_accuracy: 0.7411\n",
            "Epoch 20/100\n",
            "148/148 [==============================] - 3s 19ms/step - loss: 0.4388 - accuracy: 0.9325 - val_loss: 1.3131 - val_accuracy: 0.7199\n",
            "Epoch 21/100\n",
            "148/148 [==============================] - 3s 22ms/step - loss: 0.4067 - accuracy: 0.9427 - val_loss: 1.2917 - val_accuracy: 0.7368\n",
            "Epoch 22/100\n",
            "148/148 [==============================] - 3s 17ms/step - loss: 0.3978 - accuracy: 0.9420 - val_loss: 1.2305 - val_accuracy: 0.7402\n",
            "Epoch 23/100\n",
            "148/148 [==============================] - 2s 16ms/step - loss: 0.3644 - accuracy: 0.9509 - val_loss: 1.2067 - val_accuracy: 0.7445\n",
            "Epoch 24/100\n",
            "148/148 [==============================] - 3s 17ms/step - loss: 0.3517 - accuracy: 0.9497 - val_loss: 1.2279 - val_accuracy: 0.7479\n",
            "Epoch 25/100\n",
            "148/148 [==============================] - 3s 19ms/step - loss: 0.3123 - accuracy: 0.9630 - val_loss: 1.2604 - val_accuracy: 0.7530\n",
            "Epoch 26/100\n",
            "148/148 [==============================] - 3s 21ms/step - loss: 0.3125 - accuracy: 0.9580 - val_loss: 1.3005 - val_accuracy: 0.7292\n",
            "Epoch 27/100\n",
            "148/148 [==============================] - 3s 19ms/step - loss: 0.3048 - accuracy: 0.9575 - val_loss: 1.2204 - val_accuracy: 0.7462\n",
            "Epoch 28/100\n",
            "148/148 [==============================] - 2s 16ms/step - loss: 0.2833 - accuracy: 0.9635 - val_loss: 1.2505 - val_accuracy: 0.7462\n",
            "Epoch 29/100\n",
            "148/148 [==============================] - 3s 17ms/step - loss: 0.2729 - accuracy: 0.9656 - val_loss: 1.2490 - val_accuracy: 0.7377\n",
            "Epoch 30/100\n",
            "148/148 [==============================] - 3s 21ms/step - loss: 0.2549 - accuracy: 0.9681 - val_loss: 1.3333 - val_accuracy: 0.7351\n",
            "Epoch 31/100\n",
            "148/148 [==============================] - 3s 18ms/step - loss: 0.2574 - accuracy: 0.9635 - val_loss: 1.2012 - val_accuracy: 0.7479\n",
            "Epoch 32/100\n",
            "148/148 [==============================] - 3s 17ms/step - loss: 0.2305 - accuracy: 0.9698 - val_loss: 1.3701 - val_accuracy: 0.7419\n",
            "Epoch 33/100\n",
            "148/148 [==============================] - 2s 16ms/step - loss: 0.2260 - accuracy: 0.9688 - val_loss: 1.2586 - val_accuracy: 0.7216\n",
            "Epoch 34/100\n",
            "148/148 [==============================] - 2s 17ms/step - loss: 0.2145 - accuracy: 0.9720 - val_loss: 1.3141 - val_accuracy: 0.7496\n",
            "Epoch 35/100\n",
            "148/148 [==============================] - 3s 23ms/step - loss: 0.2110 - accuracy: 0.9715 - val_loss: 1.3786 - val_accuracy: 0.7267\n",
            "37/37 [==============================] - 0s 10ms/step - loss: 1.2604 - accuracy: 0.7530\n",
            "Test loss:  1.2604018449783325\n",
            "Test accuracy:  0.7529711127281189\n"
          ]
        }
      ]
    },
    {
      "cell_type": "code",
      "source": [
        "import matplotlib.pyplot as plt\n",
        "\n",
        "# Assuming `hist` is the training history obtained during model training\n",
        "\n",
        "# Plot training accuracy and validation loss on the same graph\n",
        "plt.figure(figsize=(10, 6))\n",
        "\n",
        "# Plot training accuracy\n",
        "plt.plot(hist.history['accuracy'], label='Train Accuracy', color='blue')\n",
        "plt.xlabel('Epoch')\n",
        "plt.ylabel('Accuracy', color='blue')\n",
        "plt.tick_params(axis='y', labelcolor='blue')\n",
        "plt.legend(loc='upper left')\n",
        "\n",
        "# Create a second y-axis for validation loss\n",
        "plt.twinx()\n",
        "\n",
        "# Plot validation loss\n",
        "plt.plot(hist.history['val_loss'], label='Validation Loss', color='red')\n",
        "plt.ylabel('Loss', color='red')\n",
        "plt.tick_params(axis='y', labelcolor='red')\n",
        "plt.legend(loc='upper right')\n",
        "\n",
        "plt.title('Training Accuracy and Validation Loss')\n",
        "plt.show()\n"
      ],
      "metadata": {
        "colab": {
          "base_uri": "https://localhost:8080/",
          "height": 564
        },
        "id": "DFOjQr6Gb5oH",
        "outputId": "89cdd0fc-459b-44de-911b-40d30d30b626"
      },
      "execution_count": null,
      "outputs": [
        {
          "output_type": "display_data",
          "data": {
            "text/plain": [
              "<Figure size 1000x600 with 2 Axes>"
            ],
            "image/png": "[encoded data removed]"
          },
          "metadata": {}
        }
      ]
    }
  ],
  "metadata": {
    "accelerator": "GPU",
    "colab": {
      "provenance": [],
      "gpuType": "T4"
    },
    "kernelspec": {
      "display_name": "Python 3",
      "name": "python3"
    },
    "language_info": {
      "name": "python"
    }
  },
  "nbformat": 4,
  "nbformat_minor": 0
}